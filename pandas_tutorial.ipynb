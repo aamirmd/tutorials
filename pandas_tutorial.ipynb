{
 "cells": [
  {
   "cell_type": "markdown",
   "metadata": {},
   "source": [
    "Copyright (c) 2025 aamirmd. All Rights Reserved.\n",
    "\n",
    "This work is licensed under the MIT License. See LICENSE file for details."
   ]
  },
  {
   "cell_type": "markdown",
   "metadata": {},
   "source": [
    "# 📊 Pandas Tutorial: Your Guide to Data Analysis in Python\n",
    "\n",
    "Welcome to this Pandas tutorial! \n",
    "\n",
    "Pandas is one of the most powerful and widely-used data analysis libraries in Python. Whether you're a data scientist, analyst, or developer, Pandas will become an essential tool in your data manipulation toolkit.\n",
    "\n",
    "### Pre-requisites:\n",
    "- Basic Python knowledge (variables, types, lists, indexing, dictionaries)\n",
    "- Familiarity with NumPy (preferred but not required)\n",
    "\n",
    "### What you'll learn:\n",
    "- How to work with Series and DataFrames\n",
    "- Loading and manipulating data\n",
    "- Essential data analysis operations\n",
    "- Best practices for data handling"
   ]
  },
  {
   "cell_type": "markdown",
   "metadata": {},
   "source": [
    "## 🚀 Getting Started: Installing and Importing Pandas\n",
    "\n",
    "Pandas is easy to install and import. Let's get started!\n",
    "\n",
    "📚 **Official Documentation**: For more detailed information, visit [pandas.pydata.org](https://pandas.pydata.org/)\n",
    "\n",
    "💡 **Pro Tip**: Pandas is usually imported with the alias `pd`, which is a community standard you'll see in most Python data analysis code."
   ]
  },
  {
   "cell_type": "code",
   "execution_count": null,
   "metadata": {},
   "outputs": [],
   "source": [
    "!pip install pandas"
   ]
  },
  {
   "cell_type": "markdown",
   "metadata": {},
   "source": [
    "☁️ **Run on Colab!**\n",
    "\n",
    "This notebook can be run on Google Colab without needing to install Python on your computer.\n",
    "\n",
    "🔗 Follow the step-by-step guide here: [Google Colab Instructions](https://medium.com/@jessica0greene/running-your-notebooks-in-the-cloud-with-google-colab-4387529bfad4)\n",
    "\n",
    "💫 **Benefits of using Colab:**\n",
    "- Free GPU access\n",
    "- Pre-installed data science libraries\n",
    "- Easy sharing and collaboration\n",
    "- No local setup required"
   ]
  },
  {
   "cell_type": "code",
   "execution_count": null,
   "metadata": {},
   "outputs": [],
   "source": [
    "import pandas as pd"
   ]
  },
  {
   "cell_type": "markdown",
   "metadata": {},
   "source": [
    "## 📦 Series and DataFrames: The Building Blocks\n",
    "\n",
    "Pandas provides two fundamental data structures that make data analysis a breeze:\n",
    "\n",
    "### Series (1-dimensional)\n",
    "- Think of it as a smart, labeled array\n",
    "- Perfect for time series data, labeled vectors, and single-column data\n",
    "- Combines array-like operations with dictionary-like indexing\n",
    "\n",
    "### DataFrame (2-dimensional)\n",
    "- Like a spreadsheet or SQL table in Python\n",
    "- Consists of rows and columns with labels\n",
    "- Can hold different types of data in different columns\n",
    "- The most commonly used Pandas object"
   ]
  },
  {
   "cell_type": "code",
   "execution_count": null,
   "metadata": {},
   "outputs": [],
   "source": [
    "# Creating a series\n",
    "s = pd.Series([1,2,3])\n",
    "print(f\"Series example:\")\n",
    "display(s)\n",
    "\n",
    "df = pd.DataFrame({\n",
    "    'A': [1,2,3],\n",
    "    'B': [4,5,6],\n",
    "    'C':[7,8,9]\n",
    "})\n",
    "print(f\"Dataframe example:\")\n",
    "display(df)"
   ]
  },
  {
   "cell_type": "markdown",
   "metadata": {},
   "source": [
    "## 🎯 Indexing and Slicing: Accessing Your Data\n",
    "\n",
    "Pandas provides powerful ways to access and slice your data. Here's what makes it special:\n",
    "\n",
    "### Key Features:\n",
    "- Label-based indexing using `.loc[]`\n",
    "- Position-based indexing using `.iloc[]`\n",
    "- Boolean indexing for filtering data\n",
    "- Multi-level indexing for hierarchical data\n",
    "\n",
    "💡 **Best Practice**: Always prefer `.loc[]` and `.iloc[]` over direct `[]` indexing for clarity and performance."
   ]
  },
  {
   "cell_type": "code",
   "execution_count": null,
   "metadata": {},
   "outputs": [],
   "source": [
    "# Indexing example\n",
    "s = pd.Series([1,2,3], index=['a', 'b', 'c'])\n",
    "print(f\"Series: \")\n",
    "display(s)\n",
    "print(f\"Element 'b': {s['b']}\")\n",
    "\n",
    "# Another indexing example\n",
    "s = pd.Series(['d', 'e', 'f'], index=[215, 168, 900])\n",
    "print(f\"Series: \")\n",
    "display(s)\n",
    "print(f\"Element 900: {s[900]}\")\n",
    "\n",
    "# Slicing example\n",
    "s = pd.Series([1,2,3,4,5], index=['a', 'b', 'c', 'd', 'e'])"
   ]
  },
  {
   "cell_type": "markdown",
   "metadata": {},
   "source": [
    "## 📥 Data Loading: Getting Your Data into Pandas\n",
    "\n",
    "Pandas excels at importing data from various sources. Here are the most common formats:\n",
    "\n",
    "### Supported Formats:\n",
    "- CSV files (`pd.read_csv()`)\n",
    "- Excel files (`pd.read_excel()`)\n",
    "- JSON data (`pd.read_json()`)\n",
    "- SQL databases (`pd.read_sql()`)\n",
    "- And many more!\n",
    "\n",
    "💡 **Pro Tip**: Always check the data after loading using `.head()`, `.info()`, and `.describe()` to understand its structure and quality."
   ]
  },
  {
   "cell_type": "code",
   "execution_count": null,
   "metadata": {},
   "outputs": [],
   "source": [
    "path_to_data = \"data/iris.csv\"\n",
    "df = pd.read_csv(path_to_data)\n",
    "df"
   ]
  },
  {
   "cell_type": "markdown",
   "metadata": {},
   "source": [
    "Common operations to get a glimpse of the dataset."
   ]
  },
  {
   "cell_type": "code",
   "execution_count": null,
   "metadata": {},
   "outputs": [],
   "source": [
    "# To get first 4 elements\n",
    "print(\"First 4 elements\")\n",
    "print(df.head(4))\n",
    "print()\n",
    "\n",
    "# To get last 4 elements\n",
    "print(\"Last 4 elements\")\n",
    "print(df.tail(4))\n",
    "print()\n",
    "\n",
    "# To get names of columns as a Series object\n",
    "columns = df.columns\n",
    "print(\"Columns: \", columns)\n",
    "print()"
   ]
  },
  {
   "cell_type": "markdown",
   "metadata": {},
   "source": [
    "How to get metadata and summary of data?"
   ]
  },
  {
   "cell_type": "code",
   "execution_count": null,
   "metadata": {},
   "outputs": [],
   "source": [
    "# To get metadata about the dataset\n",
    "print(\"Metadata about dataset\")\n",
    "df.info()\n",
    "print()\n",
    "\n",
    "# To get statistics about columns\n",
    "print(\"Summary statistics of columns/features\")\n",
    "df.describe()"
   ]
  },
  {
   "cell_type": "markdown",
   "metadata": {},
   "source": [
    "## Data Selection and Indexing"
   ]
  },
  {
   "cell_type": "code",
   "execution_count": null,
   "metadata": {},
   "outputs": [],
   "source": [
    "path_to_data = \"data/iris.csv\"\n",
    "df = pd.read_csv(path_to_data)\n",
    "print(f\"Columns are {df.columns.tolist()}\")"
   ]
  },
  {
   "cell_type": "markdown",
   "metadata": {},
   "source": [
    "- Some common ways to retreive data from dataframes are given below."
   ]
  },
  {
   "cell_type": "code",
   "execution_count": null,
   "metadata": {},
   "outputs": [],
   "source": [
    "# To get a column as a Series object\n",
    "column = df['sepal.length']\n",
    "print(\"Sepal length column: \")\n",
    "print(column)\n",
    "print()\n",
    "\n",
    "# To get a single element from row index and column index\n",
    "item = df.loc[4, \"petal.width\"]\n",
    "print(f\"Item at in row index '4' and column 'petal.width' {item}\")\n",
    "print()\n",
    "\n",
    "# To get single element using position-based indexing (like python lists)\n",
    "item = df.iloc[6,3]\n",
    "print(f\"Element in 6th row and 3rd column (0-based indexing): {item}\")\n",
    "print()"
   ]
  },
  {
   "cell_type": "markdown",
   "metadata": {},
   "source": [
    "## 🔧 Data Manipulation: Shaping Your Data\n",
    "\n",
    "Data rarely comes in the exact format we need. Pandas makes it easy to transform and manipulate your data:\n",
    "\n",
    "### Common Operations:\n",
    "- Adding/removing columns\n",
    "- Calculating derived values\n",
    "- Handling missing data\n",
    "- Merging and joining datasets\n",
    "- Grouping and aggregating data\n",
    "\n",
    "💡 **Best Practice**: Try to use vectorized operations instead of loops for better performance."
   ]
  },
  {
   "cell_type": "code",
   "execution_count": null,
   "metadata": {},
   "outputs": [],
   "source": [
    "path_to_data = \"data/iris.csv\"\n",
    "df = pd.read_csv(path_to_data)\n",
    "print(f\"Columns are {df.columns.tolist()}\")"
   ]
  },
  {
   "cell_type": "code",
   "execution_count": null,
   "metadata": {},
   "outputs": [],
   "source": [
    "# Create a new column called sepal.area = sepal.length * sepal.width\n",
    "df['sepal.area'] = df['sepal.length'] * df['sepal.width']\n",
    "print(\"Iris dataframe (part) after adding 'area' column\")\n",
    "print(df[[\"sepal.length\", \"sepal.width\", \"sepal.area\"]])"
   ]
  },
  {
   "cell_type": "markdown",
   "metadata": {},
   "source": [
    "## 🔄 Sorting Data in Pandas\n",
    "\n",
    "Organizing your data is crucial for analysis and visualization. Pandas' sorting capabilities make this task effortless!\n",
    "\n",
    "### Key Features:\n",
    "- Sort by one or multiple columns using the `by` parameter\n",
    "- Control sort order with `ascending=True/False` (default is ascending)\n",
    "- Handle missing values with `na_position='first'/'last'`\n",
    "- Sort in-place with `inplace=True` or create a new sorted dataframe\n",
    "\n",
    "### Example Syntax:\n",
    "```python\n",
    "df.sort_values(by='column_name')  # Sort by single column\n",
    "df.sort_values(by=['col1', 'col2'])  # Sort by multiple columns\n",
    "```\n",
    "\n",
    "💡 **Pro Tip**: When sorting by multiple columns, you can specify different sort orders for each column using a list of booleans for the `ascending` parameter."
   ]
  },
  {
   "cell_type": "code",
   "execution_count": null,
   "metadata": {},
   "outputs": [],
   "source": [
    "# Load the iris dataset\n",
    "path_to_data = \"data/iris.csv\"\n",
    "df = pd.read_csv(path_to_data)\n",
    "\n",
    "# Sort the dataframe by sepal.length\n",
    "df_sorted = df.sort_values(by='sepal.length')\n",
    "\n",
    "print(\"Iris dataset sorted by sepal length:\")\n",
    "display(df_sorted)"
   ]
  }
 ],
 "metadata": {
  "kernelspec": {
   "display_name": "a3_ml",
   "language": "python",
   "name": "python3"
  },
  "language_info": {
   "codemirror_mode": {
    "name": "ipython",
    "version": 3
   },
   "file_extension": ".py",
   "mimetype": "text/x-python",
   "name": "python",
   "nbconvert_exporter": "python",
   "pygments_lexer": "ipython3",
   "version": "3.10.14"
  }
 },
 "nbformat": 4,
 "nbformat_minor": 2
}
