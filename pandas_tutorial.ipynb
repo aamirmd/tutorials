{
 "cells": [
  {
   "cell_type": "markdown",
   "metadata": {},
   "source": [
    "Copyright (c) 2025 aamirmd. All Rights Reserved.\n",
    "\n",
    "This work is licensed under the MIT License. See LICENSE file for details."
   ]
  },
  {
   "cell_type": "markdown",
   "metadata": {},
   "source": [
    "# Pandas tutorial\n",
    "\n",
    "Welcome!\n",
    "\n",
    "Pre-requisites:\n",
    "- Basic python (variables, types, lists, indexing, dicts, etc.) \n",
    "- Numpy (preferred)"
   ]
  },
  {
   "cell_type": "markdown",
   "metadata": {},
   "source": [
    "##  Installing and importing Pandas\n",
    "\n",
    "Please view official documentation here: https://pandas.pydata.org/"
   ]
  },
  {
   "cell_type": "code",
   "execution_count": null,
   "metadata": {},
   "outputs": [],
   "source": [
    "!pip install pandas"
   ]
  },
  {
   "cell_type": "markdown",
   "metadata": {},
   "source": [
    "This notebook can be run on google colab without needing to install python on your computer.\n",
    "\n",
    "Please follow instructions here: [Google Colab Instructions](https://medium.com/@jessica0greene/running-your-notebooks-in-the-cloud-with-google-colab-4387529bfad4)"
   ]
  },
  {
   "cell_type": "code",
   "execution_count": null,
   "metadata": {},
   "outputs": [],
   "source": [
    "import pandas as pd"
   ]
  },
  {
   "cell_type": "markdown",
   "metadata": {},
   "source": [
    "## Series and Dataframes\n",
    "\n",
    "- Series and Dataframes are the two major data structures in pandas.\n",
    "- Series can be thought of as 1-dimensional lists or arrays.\n",
    "- Dataframes can be thought of as 2-d dimensional tables."
   ]
  },
  {
   "cell_type": "code",
   "execution_count": null,
   "metadata": {},
   "outputs": [],
   "source": [
    "# Creating a series\n",
    "s = pd.Series([1,2,3])\n",
    "print(f\"Series example:\")\n",
    "display(s)\n",
    "\n",
    "df = pd.DataFrame({\n",
    "    'A': [1,2,3],\n",
    "    'B': [4,5,6],\n",
    "    'C':[7,8,9]\n",
    "})\n",
    "print(f\"Dataframe example:\")\n",
    "display(df)"
   ]
  },
  {
   "cell_type": "markdown",
   "metadata": {},
   "source": [
    "## Indexing and Slicing\n",
    "\n",
    "- In pandas' data structures, indexing is done using the indices provided, contrary to regular python lists.\n",
    "    * _Caveat_: As of this tutorial, python list style indexing is still allowed with a warning.\n",
    "- If no indices are provided, like in the previous example, the series/dataframe uses the default index, which is 0 to n-1 where 'n' is the number of elements."
   ]
  },
  {
   "cell_type": "code",
   "execution_count": null,
   "metadata": {},
   "outputs": [],
   "source": [
    "# Indexing example\n",
    "s = pd.Series([1,2,3], index=['a', 'b', 'c'])\n",
    "print(f\"Series: \")\n",
    "display(s)\n",
    "print(f\"Element 'b': {s['b']}\")\n",
    "\n",
    "# Another indexing example\n",
    "s = pd.Series(['d', 'e', 'f'], index=[215, 168, 900])\n",
    "print(f\"Series: \")\n",
    "display(s)\n",
    "print(f\"Element 900: {s[900]}\")\n",
    "\n",
    "# Slicing example\n",
    "s = pd.Series([1,2,3,4,5], index=['a', 'b', 'c', 'd', 'e'])"
   ]
  }
 ],
 "metadata": {
  "kernelspec": {
   "display_name": "a3_ml",
   "language": "python",
   "name": "python3"
  },
  "language_info": {
   "codemirror_mode": {
    "name": "ipython",
    "version": 3
   },
   "file_extension": ".py",
   "mimetype": "text/x-python",
   "name": "python",
   "nbconvert_exporter": "python",
   "pygments_lexer": "ipython3",
   "version": "3.10.14"
  }
 },
 "nbformat": 4,
 "nbformat_minor": 2
}
