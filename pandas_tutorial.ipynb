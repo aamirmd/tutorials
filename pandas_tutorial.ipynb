{
 "cells": [
  {
   "cell_type": "markdown",
   "metadata": {},
   "source": [
    "Copyright (c) 2025 aamirmd. All Rights Reserved.\n",
    "\n",
    "This work is licensed under the MIT License. See LICENSE file for details."
   ]
  },
  {
   "cell_type": "markdown",
   "metadata": {},
   "source": [
    "# Pandas tutorial\n",
    "\n",
    "Welcome!\n",
    "\n",
    "Pre-requisites:\n",
    "- Basic python (variables, types, lists, indexing, dicts, etc.) \n",
    "- Numpy (preferred)"
   ]
  },
  {
   "cell_type": "markdown",
   "metadata": {},
   "source": [
    "##  Installing and importing Pandas\n",
    "\n",
    "Please view official documentation here: https://pandas.pydata.org/"
   ]
  },
  {
   "cell_type": "code",
   "execution_count": null,
   "metadata": {},
   "outputs": [],
   "source": [
    "!pip install pandas"
   ]
  },
  {
   "cell_type": "markdown",
   "metadata": {},
   "source": [
    "This notebook can be run on google colab without needing to install python on your computer.\n",
    "\n",
    "Please follow instructions here: [Google Colab Instructions](https://medium.com/@jessica0greene/running-your-notebooks-in-the-cloud-with-google-colab-4387529bfad4)"
   ]
  },
  {
   "cell_type": "code",
   "execution_count": null,
   "metadata": {},
   "outputs": [],
   "source": [
    "import pandas as pd"
   ]
  },
  {
   "cell_type": "markdown",
   "metadata": {},
   "source": [
    "## Series and Dataframes\n",
    "\n",
    "- Series and Dataframes are the two major data structures in pandas.\n",
    "- Series can be thought of as 1-dimensional lists or arrays.\n",
    "- Dataframes can be thought of as 2-d dimensional tables."
   ]
  },
  {
   "cell_type": "code",
   "execution_count": null,
   "metadata": {},
   "outputs": [],
   "source": [
    "# Creating a series\n",
    "s = pd.Series([1,2,3])\n",
    "print(f\"Series example:\")\n",
    "display(s)\n",
    "\n",
    "df = pd.DataFrame({\n",
    "    'A': [1,2,3],\n",
    "    'B': [4,5,6],\n",
    "    'C':[7,8,9]\n",
    "})\n",
    "print(f\"Dataframe example:\")\n",
    "display(df)"
   ]
  },
  {
   "cell_type": "markdown",
   "metadata": {},
   "source": [
    "## Indexing and Slicing\n",
    "\n",
    "- In pandas' data structures, indexing is done using the indices provided, contrary to regular python lists.\n",
    "    * _Caveat_: As of this tutorial, python list style indexing is still allowed with a warning.\n",
    "- If no indices are provided, like in the previous example, the series/dataframe uses the default index, which is 0 to n-1 where 'n' is the number of elements."
   ]
  },
  {
   "cell_type": "code",
   "execution_count": null,
   "metadata": {},
   "outputs": [],
   "source": [
    "# Indexing example\n",
    "s = pd.Series([1,2,3], index=['a', 'b', 'c'])\n",
    "print(f\"Series: \")\n",
    "display(s)\n",
    "print(f\"Element 'b': {s['b']}\")\n",
    "\n",
    "# Another indexing example\n",
    "s = pd.Series(['d', 'e', 'f'], index=[215, 168, 900])\n",
    "print(f\"Series: \")\n",
    "display(s)\n",
    "print(f\"Element 900: {s[900]}\")\n",
    "\n",
    "# Slicing example\n",
    "s = pd.Series([1,2,3,4,5], index=['a', 'b', 'c', 'd', 'e'])"
   ]
  },
  {
   "cell_type": "markdown",
   "metadata": {},
   "source": [
    "## Data loading\n",
    "\n",
    "- Data can be loaded/inputted using Pandas in many formats such as:\n",
    "    * csv\n",
    "    * json\n",
    "    * excel\n",
    "- 'csv' is typically used more than others"
   ]
  },
  {
   "cell_type": "code",
   "execution_count": null,
   "metadata": {},
   "outputs": [],
   "source": [
    "path_to_data = \"data/iris.csv\"\n",
    "df = pd.read_csv(path_to_data)\n",
    "df"
   ]
  },
  {
   "cell_type": "markdown",
   "metadata": {},
   "source": [
    "Common operations to get a glimpse of the dataset."
   ]
  },
  {
   "cell_type": "code",
   "execution_count": null,
   "metadata": {},
   "outputs": [],
   "source": [
    "# To get first 4 elements\n",
    "print(\"First 4 elements\")\n",
    "print(df.head(4))\n",
    "print()\n",
    "\n",
    "# To get last 4 elements\n",
    "print(\"Last 4 elements\")\n",
    "print(df.tail(4))\n",
    "print()\n",
    "\n",
    "# To get names of columns as a Series object\n",
    "columns = df.columns\n",
    "print(\"Columns: \", columns)\n",
    "print()"
   ]
  },
  {
   "cell_type": "markdown",
   "metadata": {},
   "source": [
    "How to get metadata and summary of data?"
   ]
  },
  {
   "cell_type": "code",
   "execution_count": null,
   "metadata": {},
   "outputs": [],
   "source": [
    "# To get metadata about the dataset\n",
    "print(\"Metadata about dataset\")\n",
    "df.info()\n",
    "print()\n",
    "\n",
    "# To get statistics about columns\n",
    "print(\"Summary statistics of columns/features\")\n",
    "df.describe()"
   ]
  },
  {
   "cell_type": "markdown",
   "metadata": {},
   "source": [
    "## Data Selection and Indexing"
   ]
  },
  {
   "cell_type": "code",
   "execution_count": null,
   "metadata": {},
   "outputs": [],
   "source": [
    "path_to_data = \"data/iris.csv\"\n",
    "df = pd.read_csv(path_to_data)\n",
    "print(f\"Columns are {df.columns.tolist()}\")"
   ]
  },
  {
   "cell_type": "markdown",
   "metadata": {},
   "source": [
    "- Some common ways to retreive data from dataframes are given below."
   ]
  },
  {
   "cell_type": "code",
   "execution_count": null,
   "metadata": {},
   "outputs": [],
   "source": [
    "# To get a column as a Series object\n",
    "column = df['sepal.length']\n",
    "print(\"Sepal length column: \")\n",
    "print(column)\n",
    "print()\n",
    "\n",
    "# To get a single element from row index and column index\n",
    "item = df.loc[4, \"petal.width\"]\n",
    "print(f\"Item at in row index '4' and column 'petal.width' {item}\")\n",
    "print()\n",
    "\n",
    "# To get single element using position-based indexing (like python lists)\n",
    "item = df.iloc[6,3]\n",
    "print(f\"Element in 6th row and 3rd column (0-based indexing): {item}\")\n",
    "print()"
   ]
  },
  {
   "cell_type": "markdown",
   "metadata": {},
   "source": [
    "## Data Manipulation\n",
    "\n",
    "- Pandas allows easy manipulation of columns including insertion and deletion."
   ]
  },
  {
   "cell_type": "code",
   "execution_count": null,
   "metadata": {},
   "outputs": [],
   "source": [
    "path_to_data = \"data/iris.csv\"\n",
    "df = pd.read_csv(path_to_data)\n",
    "print(f\"Columns are {df.columns.tolist()}\")"
   ]
  },
  {
   "cell_type": "code",
   "execution_count": null,
   "metadata": {},
   "outputs": [],
   "source": [
    "# Create a new column called sepal.area = sepal.length * sepal.width\n",
    "df['sepal.area'] = df['sepal.length'] * df['sepal.width']\n",
    "print(\"Iris dataframe (part) after adding 'area' column\")\n",
    "print(df[[\"sepal.length\", \"sepal.width\", \"sepal.area\"]])"
   ]
  },
  {
   "cell_type": "markdown",
   "metadata": {},
   "source": [
    "## Sorting Data in Pandas\n",
    "\n",
    "Pandas provides powerful sorting capabilities through the `sort_values()` method. Here are the key features:\n",
    "\n",
    "- Sort by one or multiple columns using the `by` parameter\n",
    "- Control sort order with `ascending=True/False` (default is ascending)\n",
    "- Handle missing values with `na_position='first'/'last'`\n",
    "- Sort in-place with `inplace=True` or create a new sorted dataframe\n",
    "\n",
    "Example syntax:\n",
    "```python\n",
    "df.sort_values(by='column_name')  # Sort by single column\n",
    "df.sort_values(by=['col1', 'col2'])  # Sort by multiple columns\n",
    "```\n",
    "```"
   ]
  },
  {
   "cell_type": "code",
   "execution_count": null,
   "metadata": {},
   "outputs": [],
   "source": [
    "# Load the iris dataset\n",
    "path_to_data = \"data/iris.csv\"\n",
    "df = pd.read_csv(path_to_data)\n",
    "\n",
    "# Sort the dataframe by sepal.length\n",
    "df_sorted = df.sort_values(by='sepal.length')\n",
    "\n",
    "print(\"Iris dataset sorted by sepal length:\")\n",
    "display(df_sorted)"
   ]
  }
 ],
 "metadata": {
  "kernelspec": {
   "display_name": "a3_ml",
   "language": "python",
   "name": "python3"
  },
  "language_info": {
   "codemirror_mode": {
    "name": "ipython",
    "version": 3
   },
   "file_extension": ".py",
   "mimetype": "text/x-python",
   "name": "python",
   "nbconvert_exporter": "python",
   "pygments_lexer": "ipython3",
   "version": "3.10.14"
  }
 },
 "nbformat": 4,
 "nbformat_minor": 2
}
