{
 "cells": [
  {
   "cell_type": "markdown",
   "metadata": {},
   "source": [
    "# Numpy tutorial\n",
    "\n",
    "Welcome!\n",
    "\n",
    "Pre-requisites for this tutorial:\n",
    "- Basic python (variables, types, lists, dicts, etc.) "
   ]
  },
  {
   "cell_type": "markdown",
   "metadata": {},
   "source": [
    "## Installing  and importing Numpy\n",
    "\n",
    "Please view official documentation here: https://numpy.org/"
   ]
  },
  {
   "cell_type": "code",
   "execution_count": null,
   "metadata": {},
   "outputs": [],
   "source": [
    "# Run this cell to install numpy. Can alternately be run on a command line\n",
    "!pip install numpy"
   ]
  },
  {
   "cell_type": "code",
   "execution_count": 1,
   "metadata": {},
   "outputs": [],
   "source": [
    "import numpy as np"
   ]
  },
  {
   "cell_type": "markdown",
   "metadata": {},
   "source": [
    "## Creating a numpy array\n",
    "\n",
    "Numpy arrays can be created in a number of ways. One of the ways is by using a python list such as [1,2,3]."
   ]
  },
  {
   "cell_type": "code",
   "execution_count": null,
   "metadata": {},
   "outputs": [],
   "source": [
    "list_of_numbers = [1,2,3]\n",
    "numpy_array_of_list = np.array(list_of_numbers)\n",
    "\n",
    "print(\"The numpy array is \", numpy_array_of_list)\n",
    "print(\"The type of a numpy array is \", type(numpy_array_of_list))"
   ]
  },
  {
   "cell_type": "markdown",
   "metadata": {},
   "source": [
    "Here are some other ways to create numpy arrays"
   ]
  },
  {
   "cell_type": "code",
   "execution_count": null,
   "metadata": {},
   "outputs": [],
   "source": [
    "# To create an array of zeros\n",
    "zeros_array = np.zeros(3)\n",
    "print(f\"Array of zeros: {zeros_array}\")\n",
    "\n",
    "# To create an array of ones\n",
    "ones_array = np.ones(5)\n",
    "print(f\"Array of ones: {ones_array}\")\n",
    "\n",
    "# To create an array from 15 to 25 with step size 2. Works similar to python list slicing.\n",
    "range_array = np.arange(15, 25, 2)\n",
    "print(f\"Array from range [15,25) with step size 2: {range_array}\")\n",
    "\n",
    "# Note: the 'start' and 'step' parameters are optional. \n",
    "range_array_only_stop = np.arange(6)\n",
    "print(f\"Array from [0,6): {range_array_only_stop}\")\n",
    "\n",
    "# To create an array with 6 elements in the range [13,15] which are evenly spaced\n",
    "linspace_array = np.linspace(13, 15, num=6)\n",
    "print(f\"Array of 6 elements in range [13,15]: {linspace_array}\")\n",
    "\n",
    "# We can also make the range exclude the endpoint. This is an array with 6 elements in the range [13,15)\n",
    "linspace_array_exclude_endpoint = np.linspace(13, 15, num=6, endpoint=False)\n",
    "print(f\"Array of 6 elements in range [13,15): {linspace_array_exclude_endpoint}\")"
   ]
  },
  {
   "cell_type": "markdown",
   "metadata": {},
   "source": [
    "We can also create arrays of different types.\n",
    "- To view a list of all dtypes: https://numpy.org/doc/2.1/reference/arrays.dtypes.html\n",
    "- Usually, np.int32 and np.float64 are used."
   ]
  },
  {
   "cell_type": "code",
   "execution_count": 5,
   "metadata": {},
   "outputs": [
    {
     "name": "stdout",
     "output_type": "stream",
     "text": [
      "Float array: [1. 1. 1. 1. 1. 1.]\n"
     ]
    }
   ],
   "source": [
    "float_array = np.ones(6, dtype=np.float64)\n",
    "print(f\"Float array: {float_array}\")"
   ]
  },
  {
   "cell_type": "markdown",
   "metadata": {},
   "source": [
    "## Indexing and Slicing\n",
    "\n",
    "This works similar to regular Python lists."
   ]
  },
  {
   "cell_type": "code",
   "execution_count": null,
   "metadata": {},
   "outputs": [],
   "source": [
    "a = np.array([4,7,2,3,1,6,4,9,0,2,3])\n",
    "print(f\"The element at index 3 is {a[3]}\")\n",
    "print(f\"The array from index 2 to 5 (exluding 5) is {a[2:5]}\")\n",
    "print(f\"The array from index 3 to 7 with step size 2 is {a[3:7:2]}\")"
   ]
  },
  {
   "cell_type": "markdown",
   "metadata": {},
   "source": [
    "What if you want elements of indices 2,6,4, and 7?\n",
    "\n",
    "Custom indexing is supported in numpy."
   ]
  },
  {
   "cell_type": "code",
   "execution_count": null,
   "metadata": {},
   "outputs": [],
   "source": [
    "a = np.array([4,7,2,3,1,6,4,9,0,2,3])\n",
    "print(f\"Elements at indices 2,6,4, and 7: {a[[2,6,4,7]]}\")"
   ]
  },
  {
   "cell_type": "markdown",
   "metadata": {},
   "source": [
    "Arrays can be modified. See below for examples."
   ]
  },
  {
   "cell_type": "code",
   "execution_count": null,
   "metadata": {},
   "outputs": [],
   "source": [
    "a = np.array([4,7,2,3,1,6,4,9,0,2,3])\n",
    "print(f\"Array: {a}\")\n",
    "\n",
    "# To change element at index 3 to 57\n",
    "a[3] = 57\n",
    "print(f\"After changing index 3 to 57: {a}\")\n",
    "\n",
    "# Changing indices 4,6,7 to 123\n",
    "a[[4,6,7]] = 123\n",
    "print(f\"After changing indices 4,6,7 to 123: {a}\")"
   ]
  },
  {
   "cell_type": "markdown",
   "metadata": {},
   "source": [
    "#### Masks\n",
    "\n",
    "- Masks are useful if you want all elements/numbers in an array that satisfy a particular condition.\n",
    "- Masks are a boolean numpy array where the value at an index 'True' if the boolean condition is satisfied and 'False' otherwise.\n",
    "- Common boolean operators should be used as follows (this is different from regular python syntax):\n",
    "    * & (and)\n",
    "    * | (or)\n",
    "    * ~ (not)\n",
    "- Parentheses are required when using boolean operators such as '&' and '|'. If not you will likely get an error as follows:\n",
    "    * `ValueError: The truth value of an array with more than one element is ambiguous. Use a.any() or a.all()`\n",
    "\n",
    "For example, what if we want the indices of all elements that are greater than 3. The boolean condition here is if an element is greater than 3."
   ]
  },
  {
   "cell_type": "code",
   "execution_count": null,
   "metadata": {},
   "outputs": [],
   "source": [
    "# To get indices of all elements greater than 3\n",
    "a = np.array([4,7,2,3,1,6,4,9,0,2,3])\n",
    "mask = a > 3\n",
    "print(f\"Mask for elements >3 in array: {mask}\")\n",
    "print(f\"Elements greater than 3: {a[mask]}\")"
   ]
  },
  {
   "cell_type": "markdown",
   "metadata": {},
   "source": [
    "Masking can sometimes be done in one line of code, without creating a variable called 'mask'."
   ]
  },
  {
   "cell_type": "code",
   "execution_count": null,
   "metadata": {},
   "outputs": [],
   "source": [
    "a = np.array([4,7,2,3,1,6,4,9,0,2,3])\n",
    "print(f\"Elements lesser than or equal to 6 in the array: {a[a <= 6]}\")"
   ]
  },
  {
   "cell_type": "markdown",
   "metadata": {},
   "source": [
    "Here are more ways boolean conditions can be formulated."
   ]
  },
  {
   "cell_type": "code",
   "execution_count": null,
   "metadata": {},
   "outputs": [],
   "source": [
    "a = np.array([4,7,2,3,1,6,4,9,0,2,3])\n",
    "print(f\"Array: {a}\")\n",
    "\n",
    "# To get all elements not equal to 4. There are two ways to do this.\n",
    "print(f\"All elements not equal to 4: {a[a != 4]}\")\n",
    "print(f\"All elements not equal to 4: {a[~(a == 4)]}\")\n",
    "\n",
    "# To get all elements between 3 and 7 exluding 7, i.e. in the interval [3,7) i.e. >=3 and <7\n",
    "print(f\"All elements in range [3,7): {a[(a >= 3) & (a < 7)]}\")\n",
    "\n",
    "# To get all elements not greater than 3 (i.e. <=3) or greater than 7\n",
    "print(f\"All elements that are in range (-inf,3] u (7,inf): {a[~(a > 3) | (a > 7)]}\")"
   ]
  },
  {
   "cell_type": "markdown",
   "metadata": {},
   "source": [
    "## Shape\n",
    "\n",
    "Numpy arrays don't have to be a 1-dimensional list.\n",
    "\n",
    "The can be 2,3, or multiple dimensions. A 2-d numpy array would be a matrix. A 3-d would be like stacking multiple matrices together, like a cube."
   ]
  },
  {
   "cell_type": "code",
   "execution_count": null,
   "metadata": {},
   "outputs": [],
   "source": [
    "# To create a 2-d array from a list of lists\n",
    "a = np.array([\n",
    "    [1,2,3],\n",
    "    [4,5,6],\n",
    "    [7,8,9]\n",
    "])\n",
    "print(f\"2-d array from list: \\n{a}\")\n",
    "print()\n",
    "\n",
    "# To create a 3-d array with ones that is like stacking three 5x7 matrices together\n",
    "a = np.ones(shape=(3,5,7))\n",
    "print(f\"3-d array of ones: \\n{a}\")"
   ]
  },
  {
   "cell_type": "markdown",
   "metadata": {},
   "source": [
    "## Linear Algebra\n",
    "\n",
    "Numpy can also be used to perform linear algebra operations."
   ]
  },
  {
   "cell_type": "code",
   "execution_count": 7,
   "metadata": {},
   "outputs": [
    {
     "name": "stdout",
     "output_type": "stream",
     "text": [
      "Diagonal matrix: \n",
      "[[1 0 0 0]\n",
      " [0 2 0 0]\n",
      " [0 0 3 0]\n",
      " [0 0 0 4]]\n",
      "\n",
      "Identity matrix of size 3: \n",
      "[[1. 0. 0.]\n",
      " [0. 1. 0.]\n",
      " [0. 0. 1.]]\n"
     ]
    }
   ],
   "source": [
    "# To create a diagonal matrix using a list or array\n",
    "diagonal_matrix = np.diag([1,2,3,4])\n",
    "print(f\"Diagonal matrix: \\n{diagonal_matrix}\")\n",
    "print()\n",
    "\n",
    "# To create an identity matrix\n",
    "identity_matrix = np.eye(3)\n",
    "print(f\"Identity matrix of size 3: \\n{identity_matrix}\")"
   ]
  },
  {
   "cell_type": "code",
   "execution_count": 8,
   "metadata": {},
   "outputs": [
    {
     "name": "stdout",
     "output_type": "stream",
     "text": [
      "A x B = \n",
      "[[30 36 42  6]\n",
      " [66 81 96 15]]\n",
      "\n",
      "A x B = \n",
      "[[30 36 42  6]\n",
      " [66 81 96 15]]\n"
     ]
    }
   ],
   "source": [
    "# To perform a matrix multiplication, there are two ways\n",
    "\n",
    "A = np.array([   # 2x3 matrix\n",
    "    [1,2,3],\n",
    "    [4,5,6]\n",
    "])\n",
    "\n",
    "B = np.array([   # 3x4 matrix\n",
    "    [1,2,3,1],\n",
    "    [4,5,6,1],\n",
    "    [7,8,9,1]\n",
    "])\n",
    "\n",
    "print(f\"A x B = \\n{np.matmul(A, B)}\\n\")\n",
    "print(f\"A x B = \\n{A @ B}\")"
   ]
  },
  {
   "cell_type": "code",
   "execution_count": null,
   "metadata": {},
   "outputs": [
    {
     "ename": "ValueError",
     "evalue": "matmul: Input operand 1 has a mismatch in its core dimension 0, with gufunc signature (n?,k),(k,m?)->(n?,m?) (size 2 is different from 4)",
     "output_type": "error",
     "traceback": [
      "\u001b[1;31m---------------------------------------------------------------------------\u001b[0m",
      "\u001b[1;31mValueError\u001b[0m                                Traceback (most recent call last)",
      "Cell \u001b[1;32mIn[9], line 2\u001b[0m\n\u001b[0;32m      1\u001b[0m \u001b[38;5;66;03m# If the matrix multiplication is invalid (such as if the dimensions don't match) we get the following error\u001b[39;00m\n\u001b[1;32m----> 2\u001b[0m \u001b[38;5;28mprint\u001b[39m(\u001b[38;5;124mf\u001b[39m\u001b[38;5;124m\"\u001b[39m\u001b[38;5;124mB x A = \u001b[39m\u001b[38;5;132;01m{\u001b[39;00m\u001b[43mB\u001b[49m\u001b[38;5;250;43m \u001b[39;49m\u001b[38;5;241;43m@\u001b[39;49m\u001b[38;5;250;43m \u001b[39;49m\u001b[43mA\u001b[49m\u001b[38;5;132;01m}\u001b[39;00m\u001b[38;5;124m\"\u001b[39m)\n",
      "\u001b[1;31mValueError\u001b[0m: matmul: Input operand 1 has a mismatch in its core dimension 0, with gufunc signature (n?,k),(k,m?)->(n?,m?) (size 2 is different from 4)"
     ]
    }
   ],
   "source": [
    "# If the matrix multiplication is invalid (such as if the dimensions don't match) we get the following error\n",
    "# THIS WILL THROW AN ERROR\n",
    "print(f\"B x A = {B @ A}\")"
   ]
  }
 ],
 "metadata": {
  "kernelspec": {
   "display_name": "a3_ml",
   "language": "python",
   "name": "python3"
  },
  "language_info": {
   "codemirror_mode": {
    "name": "ipython",
    "version": 3
   },
   "file_extension": ".py",
   "mimetype": "text/x-python",
   "name": "python",
   "nbconvert_exporter": "python",
   "pygments_lexer": "ipython3",
   "version": "3.10.14"
  }
 },
 "nbformat": 4,
 "nbformat_minor": 2
}
