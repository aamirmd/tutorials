{
 "cells": [
  {
   "cell_type": "markdown",
   "metadata": {},
   "source": [
    "Copyright (c) 2025 aamirmd. All Rights Reserved.\n",
    "\n",
    "This work is licensed under the MIT License. See LICENSE file for details."
   ]
  },
  {
   "cell_type": "markdown",
   "metadata": {},
   "source": [
    "# Numpy tutorial\n",
    "\n",
    "Welcome!\n",
    "\n",
    "Pre-requisites:\n",
    "- Basic python (variables, types, lists, indexing, dicts, etc.) \n",
    "- Linear Algebra (only for the linear algebra section, otherwise optional)"
   ]
  },
  {
   "cell_type": "markdown",
   "metadata": {},
   "source": [
    "## Installing  and importing Numpy\n",
    "\n",
    "Please view official documentation here: https://numpy.org/"
   ]
  },
  {
   "cell_type": "code",
   "execution_count": null,
   "metadata": {},
   "outputs": [],
   "source": [
    "# Run this cell to install numpy. Can alternately be run on a command line\n",
    "!pip install numpy"
   ]
  },
  {
   "cell_type": "markdown",
   "metadata": {},
   "source": [
    "This notebook can be run on google colab without needing to install python on your computer.\n",
    "\n",
    "Please follow instructions here: [Google Colab Instructions](https://medium.com/@jessica0greene/running-your-notebooks-in-the-cloud-with-google-colab-4387529bfad4)"
   ]
  },
  {
   "cell_type": "code",
   "execution_count": null,
   "metadata": {},
   "outputs": [],
   "source": [
    "import numpy as np"
   ]
  },
  {
   "cell_type": "markdown",
   "metadata": {},
   "source": [
    "## Creating a numpy array\n",
    "\n",
    "Numpy arrays can be created in a number of ways. One of the ways is by using a python list such as [1,2,3]."
   ]
  },
  {
   "cell_type": "code",
   "execution_count": null,
   "metadata": {},
   "outputs": [],
   "source": [
    "list_of_numbers = [1,2,3]\n",
    "numpy_array_of_list = np.array(list_of_numbers)\n",
    "\n",
    "print(\"The numpy array is \", numpy_array_of_list)\n",
    "print(\"The type of a numpy array is \", type(numpy_array_of_list))"
   ]
  },
  {
   "cell_type": "markdown",
   "metadata": {},
   "source": [
    "Here are some other ways to create numpy arrays"
   ]
  },
  {
   "cell_type": "code",
   "execution_count": null,
   "metadata": {},
   "outputs": [],
   "source": [
    "# To create an array of zeros\n",
    "zeros_array = np.zeros(3)\n",
    "print(f\"Array of zeros: {zeros_array}\")\n",
    "\n",
    "# To create an array of ones\n",
    "ones_array = np.ones(5)\n",
    "print(f\"Array of ones: {ones_array}\")\n",
    "\n",
    "# To create an array from 15 to 25 with step size 2. Works similar to python list slicing.\n",
    "range_array = np.arange(15, 25, 2)\n",
    "print(f\"Array from range [15,25) with step size 2: {range_array}\")\n",
    "\n",
    "# Note: the 'start' and 'step' parameters are optional. \n",
    "range_array_only_stop = np.arange(6)\n",
    "print(f\"Array from [0,6): {range_array_only_stop}\")\n",
    "\n",
    "# To create an array with 6 elements in the range [13,15] which are evenly spaced\n",
    "linspace_array = np.linspace(13, 15, num=6)\n",
    "print(f\"Array of 6 elements in range [13,15]: {linspace_array}\")\n",
    "\n",
    "# We can also make the range exclude the endpoint. This is an array with 6 elements in the range [13,15)\n",
    "linspace_array_exclude_endpoint = np.linspace(13, 15, num=6, endpoint=False)\n",
    "print(f\"Array of 6 elements in range [13,15): {linspace_array_exclude_endpoint}\")"
   ]
  },
  {
   "cell_type": "markdown",
   "metadata": {},
   "source": [
    "We can also create arrays of different types.\n",
    "- To view a list of all dtypes: https://numpy.org/doc/2.1/reference/arrays.dtypes.html\n",
    "- Usually, np.int32 and np.float64 are used. Using regular python data types (int, float, etc.) is also fine.\n",
    "- We can also change from one type to another."
   ]
  },
  {
   "cell_type": "code",
   "execution_count": null,
   "metadata": {},
   "outputs": [],
   "source": [
    "float_array = np.ones(6, dtype=np.float64)\n",
    "print(f\"Float array: {float_array}\")\n",
    "print(f\"Float array casted to int: {float_array.astype(int)}\")"
   ]
  },
  {
   "cell_type": "markdown",
   "metadata": {},
   "source": [
    "## Indexing and Slicing\n",
    "\n",
    "This works similar to regular Python lists."
   ]
  },
  {
   "cell_type": "code",
   "execution_count": null,
   "metadata": {},
   "outputs": [],
   "source": [
    "a = np.array([4,7,2,3,1,6,4,9,0,2,3])\n",
    "print(f\"The element at index 3 is {a[3]}\")\n",
    "print(f\"The array from index 2 to 5 (exluding 5) is {a[2:5]}\")\n",
    "print(f\"The array from index 3 to 7 with step size 2 is {a[3:7:2]}\")"
   ]
  },
  {
   "cell_type": "markdown",
   "metadata": {},
   "source": [
    "What if you want elements of indices 2,6,4, and 7?\n",
    "\n",
    "Custom indexing is supported in numpy."
   ]
  },
  {
   "cell_type": "code",
   "execution_count": null,
   "metadata": {},
   "outputs": [],
   "source": [
    "a = np.array([4,7,2,3,1,6,4,9,0,2,3])\n",
    "print(f\"Elements at indices 2,6,4, and 7: {a[[2,6,4,7]]}\")"
   ]
  },
  {
   "cell_type": "markdown",
   "metadata": {},
   "source": [
    "Arrays can be modified. See below for examples."
   ]
  },
  {
   "cell_type": "code",
   "execution_count": null,
   "metadata": {},
   "outputs": [],
   "source": [
    "a = np.array([4,7,2,3,1,6,4,9,0,2,3])\n",
    "print(f\"Array: {a}\")\n",
    "\n",
    "# To change element at index 3 to 57\n",
    "a[3] = 57\n",
    "print(f\"After changing index 3 to 57: {a}\")\n",
    "\n",
    "# Changing indices 4,6,7 to 123\n",
    "a[[4,6,7]] = 123\n",
    "print(f\"After changing indices 4,6,7 to 123: {a}\")"
   ]
  },
  {
   "cell_type": "markdown",
   "metadata": {},
   "source": [
    "#### Masks\n",
    "\n",
    "- Masks are useful if you want all elements/numbers in an array that satisfy a particular condition.\n",
    "- Masks are a boolean numpy array where the value at an index 'True' if the boolean condition is satisfied and 'False' otherwise.\n",
    "- Common boolean operators should be used as follows (this is different from regular python syntax):\n",
    "    * & (and)\n",
    "    * | (or)\n",
    "    * ~ (not)\n",
    "- Parentheses are required when using boolean operators such as '&' and '|'. If not you will likely get an error as follows:\n",
    "    * `ValueError: The truth value of an array with more than one element is ambiguous. Use a.any() or a.all()`\n",
    "\n",
    "For example, what if we want the indices of all elements that are greater than 3. The boolean condition here is if an element is greater than 3."
   ]
  },
  {
   "cell_type": "code",
   "execution_count": null,
   "metadata": {},
   "outputs": [],
   "source": [
    "# To get indices of all elements greater than 3\n",
    "a = np.array([4,7,2,3,1,6,4,9,0,2,3])\n",
    "mask = a > 3\n",
    "print(f\"Mask for elements >3 in array: {mask}\")\n",
    "print(f\"Elements greater than 3: {a[mask]}\")"
   ]
  },
  {
   "cell_type": "markdown",
   "metadata": {},
   "source": [
    "Masking can sometimes be done in one line of code, without creating a variable called 'mask'."
   ]
  },
  {
   "cell_type": "code",
   "execution_count": null,
   "metadata": {},
   "outputs": [],
   "source": [
    "a = np.array([4,7,2,3,1,6,4,9,0,2,3])\n",
    "print(f\"Elements lesser than or equal to 6 in the array: {a[a <= 6]}\")"
   ]
  },
  {
   "cell_type": "markdown",
   "metadata": {},
   "source": [
    "Here are more ways boolean conditions can be formulated."
   ]
  },
  {
   "cell_type": "code",
   "execution_count": null,
   "metadata": {},
   "outputs": [],
   "source": [
    "a = np.array([4,7,2,3,1,6,4,9,0,2,3])\n",
    "print(f\"Array: {a}\")\n",
    "\n",
    "# To get all elements not equal to 4. There are two ways to do this.\n",
    "print(f\"All elements not equal to 4: {a[a != 4]}\")\n",
    "print(f\"All elements not equal to 4: {a[~(a == 4)]}\")\n",
    "\n",
    "# To get all elements between 3 and 7 exluding 7, i.e. in the interval [3,7) i.e. >=3 and <7\n",
    "print(f\"All elements in range [3,7): {a[(a >= 3) & (a < 7)]}\")\n",
    "\n",
    "# To get all elements not greater than 3 (i.e. <=3) or greater than 7\n",
    "print(f\"All elements that are in range (-inf,3] u (7,inf): {a[~(a > 3) | (a > 7)]}\")"
   ]
  },
  {
   "cell_type": "markdown",
   "metadata": {},
   "source": [
    "## Shape\n",
    "\n",
    "- The shape of a numpy array is a way to represent the number of dimensions and the number of items in each dimension.\n",
    "- So far, we have looked at lists, which are one dimensional arrays. An array (or list rather) of size 8 would have shape (8,).\n",
    "- Numpy arrays don't have to be a 1-dimensional list.\n",
    "- They can be 2,3, or more dimensions. A 2-d numpy array would be a matrix. A 3-d array would be like stacking multiple matrices together, like a cube.\n",
    "- A shape consists of one or more dimensions/axes. For example, if an array is of shape (10,4,3):\n",
    "    * The array has 3 dimensions.\n",
    "    * Number of elements across axis 0 is 10\n",
    "    * Number of elements across axis 1 is 4\n",
    "    * Number of elements across axis 2 is 3"
   ]
  },
  {
   "cell_type": "code",
   "execution_count": null,
   "metadata": {},
   "outputs": [],
   "source": [
    "# To create a 2-d array from a list of lists\n",
    "a = np.array([\n",
    "    [1,2,3,1],\n",
    "    [4,5,6,1],\n",
    "    [7,8,9,1]\n",
    "])\n",
    "print(f\"2-d array from list: \\n{a}\")\n",
    "print(f\"Shape of 2-d array: {a.shape}\")\n",
    "print()\n",
    "\n",
    "# To create a 3-d array with ones that is like stacking three 5x7 matrices together\n",
    "a = np.ones(shape=(3,5,7))\n",
    "print(f\"3-d array of ones: \\n{a}\")\n",
    "print(f\"Shape of array: {a.shape}\")"
   ]
  },
  {
   "cell_type": "markdown",
   "metadata": {},
   "source": [
    "#### Reshape\n",
    "\n",
    "- A common operation in numpy is 'reshape'. This involves changing the shape of the numpy array. This is useful if you want to change how a numpy array is structured for specific tasks.\n",
    "- An array of shape (4,2,2) can be thought of as an array of 4 elements where each element is a (2,2) two dimensional array (or matrix).\n",
    "- An array of shape (10,4,2,2) can be thought of as an array of 10 elements where each element is a (4,2,2) array."
   ]
  },
  {
   "cell_type": "code",
   "execution_count": null,
   "metadata": {},
   "outputs": [],
   "source": [
    "# Let 'a' be a 1-d array of size 16\n",
    "a = np.arange(16)\n",
    "print(f\"Array: {a}\")\n",
    "print(f\"Shape of array: {a.shape}\")\n",
    "print()\n",
    "\n",
    "# Let's reshape this array to a 4x4 matrix (2-d array)\n",
    "a_reshaped_matrix = a.reshape((4,4))\n",
    "print(f\"Array reshaped as a matrix: \\n{a_reshaped_matrix}\")\n",
    "print(f\"Shape of array: {a_reshaped_matrix.shape}\")\n",
    "print()\n",
    "\n",
    "# Reshape into 2x8 matrix\n",
    "a_reshaped_matrix_2 = a.reshape((2,8))\n",
    "print(f\"Array reshaped as a matrix: \\n{a_reshaped_matrix_2}\")\n",
    "print(f\"Shape of array: {a_reshaped_matrix_2.shape}\")"
   ]
  },
  {
   "cell_type": "code",
   "execution_count": null,
   "metadata": {},
   "outputs": [],
   "source": [
    "a = np.arange(16)\n",
    "\n",
    "# Reshape into a 3-d array of shape 4x2x2.\n",
    "# Please take a moment to look at how the numbers are structured\n",
    "a_reshaped_3d = a.reshape((4,2,2))\n",
    "print(f\"Array reshaped as 3-d: \\n{a_reshaped_3d}\")\n",
    "print(f\"Shape of array: {a_reshaped_3d.shape}\")\n",
    "print()\n",
    "\n",
    "# Reshape into a 3-d array of shape 2x4x2.\n",
    "# Please take a moment to look at how the numbers are structured\n",
    "a_reshaped_3d_2 = a.reshape((2,4,2))\n",
    "print(f\"Array reshaped as 3-d: \\n{a_reshaped_3d_2}\")\n",
    "print(f\"Shape of array: {a_reshaped_3d_2.shape}\")"
   ]
  },
  {
   "cell_type": "code",
   "execution_count": null,
   "metadata": {},
   "outputs": [],
   "source": [
    "a = np.arange(16)\n",
    "\n",
    "# Array reshaped as 4-d\n",
    "a_reshaped_4d = a.reshape((2,2,2,2))\n",
    "print(f\"Array reshaped as 4-d: \\n{a_reshaped_4d}\")\n",
    "print(f\"Shape of array: {a_reshaped_4d.shape}\")"
   ]
  },
  {
   "cell_type": "markdown",
   "metadata": {},
   "source": [
    "- Sometimes, we may not know the exact shape of the array after reshaping (or we may not feel like calculating it.)\n",
    "- In this case, we can set one of the dimensions in the argument passed into 'reshape' as -1 and numpy would automatically calculate the shape. Please see example below.\n",
    "- We cannot set more than one argument as -1 since numpy would not be able to calculate the shape."
   ]
  },
  {
   "cell_type": "code",
   "execution_count": null,
   "metadata": {},
   "outputs": [],
   "source": [
    "# Create a very large array with random numbers. The arguments are the shape\n",
    "a = np.random.rand(10,6,8,8)\n",
    "print(f\"Shape of array: {a.shape}\")\n",
    "\n",
    "# Let's reshape it into a 2-d array (or matrix) with 3 rows. We don't know the number of columns\n",
    "a_reshaped = a.reshape(3, -1)\n",
    "print(f\"Shape of reshaped array: {a_reshaped.shape}\")\n",
    "\n",
    "# Reshaping to 3d array\n",
    "a_reshaped_3d = a.reshape(5,-1,2)\n",
    "print(f\"Shape of reshaped 3d array: {a_reshaped_3d.shape}\")"
   ]
  },
  {
   "cell_type": "code",
   "execution_count": null,
   "metadata": {},
   "outputs": [],
   "source": [
    "# More than one argument as -1\n",
    "## THIS WILL THROW AN ERROR\n",
    "a = np.random.rand(10,6,8,8)\n",
    "print(f\"Shape of array: {a.shape}\")\n",
    "print(f\"Shape of new array: {a.reshape(5,-1,-1)}\")"
   ]
  },
  {
   "cell_type": "markdown",
   "metadata": {},
   "source": [
    "**IMPORTANT**: It is necessary to ensure that the new shape of a numpy array would be \"compatible\" with the old shape. This means the number of elements in both shapes should be the same. \n",
    "\n",
    "In the examples above, all shapes had 16 elements. Some of them were (16,), (2,8), (4,2,2), (2,2,2,2), etc."
   ]
  },
  {
   "cell_type": "code",
   "execution_count": null,
   "metadata": {},
   "outputs": [],
   "source": [
    "# What if we reshape to an invalid shape\n",
    "## THIS WILL THROW AN ERROR\n",
    "a = np.arange(16)\n",
    "print(f\"Error case: {a.reshape(4,2,3)}\")"
   ]
  },
  {
   "cell_type": "markdown",
   "metadata": {},
   "source": [
    "## Array operations\n",
    "\n",
    "- Numpy arrays are very useful for performing element-wise operations (addition, subtraction, etc.) between lists, matrices, 3-d arrays, etc."
   ]
  },
  {
   "cell_type": "code",
   "execution_count": null,
   "metadata": {},
   "outputs": [],
   "source": [
    "# Example of element-wise addition and subtraction\n",
    "a = np.arange(7)\n",
    "ones_array = np.ones(7, dtype=np.int32)\n",
    "sum_of_two_arrays = a + ones_array\n",
    "difference_of_two_arrays = a - ones_array\n",
    "\n",
    "print(f\"Array = {a}\")\n",
    "print(f\"Ones array = {ones_array}\")\n",
    "print()\n",
    "print(f\"Sum = {sum_of_two_arrays}\")\n",
    "print(f\"Difference = {difference_of_two_arrays}\")"
   ]
  },
  {
   "cell_type": "code",
   "execution_count": null,
   "metadata": {},
   "outputs": [],
   "source": [
    "# Element wise multiplication between matrices\n",
    "a = np.arange(9).reshape(3,3) + np.ones(shape=(3,3), dtype=np.int32)\n",
    "b = np.arange(9).reshape(3,3)\n",
    "\n",
    "print(f\"Array a = \\n{a}\")\n",
    "print(f\"Array b = \\n{b}\\n\")\n",
    "\n",
    "print(f\"Element-wise multiplication: a * b = \\n{a * b}\")"
   ]
  },
  {
   "cell_type": "markdown",
   "metadata": {},
   "source": [
    "#### Broadcasting\n",
    "\n",
    "- Broadcasting is useful when you want to perform operations that usually require a loop. For example, adding a constant to all numbers in an array.\n",
    "- Performing operations using broadcasting is usually faster.\n",
    "- However, it is important to get the shapes right for broadcasting to work as expected. To do this, we may have to use 'reshape'.\n",
    "- Please see examples below to learn what it means for the shapes to align"
   ]
  },
  {
   "cell_type": "code",
   "execution_count": null,
   "metadata": {},
   "outputs": [],
   "source": [
    "# Adding a constant to an array\n",
    "a = np.arange(3, 10)\n",
    "print(f\"Array = {a}\")\n",
    "print(f\"After adding 1: {a + 1}\")\n",
    "print(f\"After dividing by 6: {a/6}\")\n",
    "print()\n",
    "\n",
    "# For 2-d arrays\n",
    "a = np.ones(shape=(2,5))\n",
    "print(f\"Array = \\n{a}\")\n",
    "print(f\"Multiplying by 8: \\n{a * 8}\")"
   ]
  },
  {
   "cell_type": "markdown",
   "metadata": {},
   "source": [
    "- We can also use this to add 1-d arrays to 2-d arrays on a row or column basis.\n",
    "- For example, let's say we have a 2-d array called 'A' with shape (3,5) and a 1-d array called 'x' with shape (3,). We can easily multiply 'x' to each column of 'A' without using loops.\n",
    "    * However, we would have to reshape 'x' from (3,) to (3,1) for the broadcasting to work, since the shape of 'A' is (3,5). "
   ]
  },
  {
   "cell_type": "code",
   "execution_count": null,
   "metadata": {},
   "outputs": [],
   "source": [
    "A = np.arange(15).reshape(3,5)\n",
    "x = np.arange(3, dtype=np.int32)\n",
    "\n",
    "print(f\"Array A = \\n{A}\")\n",
    "print(f\"Shape of A = {A.shape}\")\n",
    "print()\n",
    "print(f\"Array x = {x}\")\n",
    "print(f\"Shape of x = {x.shape}\")\n",
    "print()\n",
    "\n",
    "# Reshaping x\n",
    "x_reshaped = x.reshape(3,1)\n",
    "print(f\"Array x reshaped = \\n{x_reshaped}\")\n",
    "print(f\"Shape of x reshaped = {x_reshaped.shape}\")\n",
    "print()\n",
    "\n",
    "# Multiplying\n",
    "product = A * x_reshaped\n",
    "print(f\"A * x_reshaped = \\n{product}\")\n",
    "print(f\"Shape of product = {product.shape}\")"
   ]
  },
  {
   "cell_type": "code",
   "execution_count": null,
   "metadata": {},
   "outputs": [],
   "source": [
    "# Trying to multiply 'A' with 'x' without reshaping would throw an error\n",
    "## THIS WILL THROW AN ERROR\n",
    "\n",
    "A = np.arange(15).reshape(3,5)\n",
    "x = np.arange(3, dtype=np.int32)\n",
    "\n",
    "print(f\"A * x = {A * x}\")"
   ]
  },
  {
   "cell_type": "markdown",
   "metadata": {},
   "source": [
    "What if we had an array of shape (5,) and we want to multiply it with every row of A, which has shape (3,5)?"
   ]
  },
  {
   "cell_type": "code",
   "execution_count": null,
   "metadata": {},
   "outputs": [],
   "source": [
    "A = np.arange(15).reshape(3,5)\n",
    "y = np.arange(5, dtype=np.int32)\n",
    "\n",
    "print(f\"Array A = \\n{A}\")\n",
    "print(f\"Shape of A = {A.shape}\")\n",
    "print()\n",
    "print(f\"Array y = {y}\")\n",
    "print(f\"Shape of y = {y.shape}\")\n",
    "print()\n",
    "\n",
    "# Reshaping y\n",
    "y_reshaped = y.reshape(1,5)\n",
    "print(f\"Array y reshaped = {y_reshaped}\")\n",
    "print(f\"Shape of y reshaped = {y_reshaped.shape}\")\n",
    "print()\n",
    "\n",
    "print(f\"A * y reshaped = \\n{A * y_reshaped}\")\n",
    "print()\n",
    "\n",
    "# This can be done without reshaping as numpy can understand the shape (5,) as (1,5) since both are row arrays\n",
    "print(f\"A * y = \\n{A * y}\")\n",
    "print()"
   ]
  },
  {
   "cell_type": "markdown",
   "metadata": {},
   "source": [
    "- Let's say we have a (500,2,2) array, which is an array that contains 500 arrays of shape (2,2).\n",
    "- How do we get an array such that we only retain the diagonal elements in each (2,2) array?"
   ]
  },
  {
   "cell_type": "code",
   "execution_count": null,
   "metadata": {},
   "outputs": [],
   "source": [
    "batch = np.random.rand(500,2,2)\n",
    "i = np.diag(np.ones(2))  # Can also be done using np.eye()\n",
    "\n",
    "print(f\"Array = \\n{batch}\")\n",
    "print(f\"Shape of array = {batch.shape}\")\n",
    "print()\n",
    "\n",
    "print(f\"i = \\n{i}\")\n",
    "print()\n",
    "\n",
    "print(f\"Array with only diagonal elements in (2,2) arrays: \\n{batch * i}\")"
   ]
  },
  {
   "cell_type": "markdown",
   "metadata": {},
   "source": [
    "How fast really is numpy broadcasting in relation to standard for loops?\n",
    "* Run cells below to find out"
   ]
  },
  {
   "cell_type": "code",
   "execution_count": null,
   "metadata": {},
   "outputs": [],
   "source": [
    "%%timeit\n",
    "product = batch * i"
   ]
  },
  {
   "cell_type": "code",
   "execution_count": null,
   "metadata": {},
   "outputs": [],
   "source": [
    "%%timeit\n",
    "product = np.array(batch)\n",
    "for index in range(product.shape[0]):\n",
    "    product[index] *= i"
   ]
  },
  {
   "cell_type": "markdown",
   "metadata": {},
   "source": [
    "#### Aggregation"
   ]
  },
  {
   "cell_type": "code",
   "execution_count": null,
   "metadata": {},
   "outputs": [],
   "source": [
    "# Finding sum of all elements in an array\n",
    "a = np.arange(5)\n",
    "print(f\"Array = {a}\")\n",
    "print(f\"Sum of elements in a = {np.sum(a)}\")\n",
    "print()\n",
    "\n",
    "# What if we want the average of all elements of a 2-d array?\n",
    "a = np.arange(8).reshape(4,2)\n",
    "print(f\"Array = \\n{a}\")\n",
    "print(f\"Average of all elements: {np.mean(a)}\")"
   ]
  },
  {
   "cell_type": "markdown",
   "metadata": {},
   "source": [
    "- Axes (or dimensions) are 0-indexed\n",
    "- If shape is (10,4,3), then the number of elements across each axis is as follows:\n",
    "    * axis 0 - 10\n",
    "    * axis 1 - 4\n",
    "    * axis 2 = 3"
   ]
  },
  {
   "cell_type": "code",
   "execution_count": null,
   "metadata": {},
   "outputs": [],
   "source": [
    "# Aggregating across specific dimension (or axis)\n",
    "a = np.array([\n",
    "    [4,5,6],\n",
    "    [2,3,1],\n",
    "    [9,8,7]\n",
    "])\n",
    "print(f\"Array = \\n{a}\")\n",
    "print()\n",
    "\n",
    "# Finding max of each row (axis = 1)\n",
    "print(f\"Max across each row: \\n{np.max(a, axis=1)}\")\n",
    "\n",
    "# Finding min across each column\n",
    "print(f\"Min across each column: \\n{np.min(a, axis=0)}\")\n",
    "print()\n",
    "\n",
    "# Finding index of max of each row (axis = 1)\n",
    "# Note, it is 0-based indexing\n",
    "print(f\"Index of max across each row: \\n{np.argmax(a, axis=1)}\")\n",
    "\n",
    "# Finding index of min across each column\n",
    "print(f\"Index of min across each column: \\n{np.argmin(a, axis=0)}\")"
   ]
  },
  {
   "cell_type": "markdown",
   "metadata": {},
   "source": [
    "Suppose we have an array of shape (7,4,3). We want to do the following:\n",
    "* Get the maximum of each of the 7 arrays of shape (4,3)\n",
    "* Average all the maximum values"
   ]
  },
  {
   "cell_type": "code",
   "execution_count": null,
   "metadata": {},
   "outputs": [],
   "source": [
    "a = np.random.rand(7,4,3)\n",
    "# print(f\"Array a = \\n{a}\")\n",
    "print(f\"Shape of array = {a.shape}\")\n",
    "\n",
    "# Changing the inner (4,3) array to a 1-d array\n",
    "a = a.reshape(a.shape[0], -1)\n",
    "# print(f\"Array reshaped = \\n{a}\")\n",
    "print(f\"Shape of array after reshape = \\n{a.shape}\")\n",
    "\n",
    "# Getting max for each \"(4,3)\" array\n",
    "max_values = np.max(a, axis=1)\n",
    "print(f\"Max values = {max_values}\")\n",
    "print(f\"Shape of max values = {max_values.shape}\")\n",
    "\n",
    "# Getting average of the max values\n",
    "print(f\"Average of max values = {np.mean(max_values)}\")"
   ]
  },
  {
   "cell_type": "markdown",
   "metadata": {},
   "source": [
    "## Linear Algebra\n",
    "\n",
    "Numpy can also be used to perform linear algebra operations."
   ]
  },
  {
   "cell_type": "code",
   "execution_count": null,
   "metadata": {},
   "outputs": [],
   "source": [
    "# To create a diagonal matrix using a list or array\n",
    "diagonal_matrix = np.diag([1,2,3,4])\n",
    "print(f\"Diagonal matrix: \\n{diagonal_matrix}\")\n",
    "print()\n",
    "\n",
    "# To create an identity matrix\n",
    "identity_matrix = np.eye(3)\n",
    "print(f\"Identity matrix of size 3: \\n{identity_matrix}\")"
   ]
  },
  {
   "cell_type": "code",
   "execution_count": null,
   "metadata": {},
   "outputs": [],
   "source": [
    "# To perform a matrix multiplication, there are two ways\n",
    "\n",
    "A = np.array([   # 2x3 matrix\n",
    "    [1,2,3],\n",
    "    [4,5,6]\n",
    "])\n",
    "\n",
    "B = np.array([   # 3x4 matrix\n",
    "    [1,2,3,1],\n",
    "    [4,5,6,1],\n",
    "    [7,8,9,1]\n",
    "])\n",
    "\n",
    "print(f\"A x B = \\n{np.matmul(A, B)}\\n\")\n",
    "print(f\"A x B = \\n{A @ B}\")"
   ]
  },
  {
   "cell_type": "code",
   "execution_count": null,
   "metadata": {},
   "outputs": [],
   "source": [
    "# If the matrix multiplication is invalid (such as if the dimensions don't match) we get the following error\n",
    "# THIS WILL THROW AN ERROR\n",
    "print(f\"B x A = {B @ A}\")"
   ]
  },
  {
   "cell_type": "code",
   "execution_count": null,
   "metadata": {},
   "outputs": [],
   "source": [
    "A = np.array([\n",
    "    [1,2,3],\n",
    "    [5,6,7],\n",
    "    [10,0,12]\n",
    "])\n",
    "\n",
    "print(f\"A = \\n{A}\\n\")\n",
    "\n",
    "# To get transpose of a matrix\n",
    "print(f\"Transpose of A = \\n{np.transpose(A)}\")\n",
    "print(f\"Transpose of A = \\n{A.T}\\n\")\n",
    "\n",
    "# To get inverse of a matrix\n",
    "print(f\"Inverse of A = \\n{np.linalg.inv(A)}\\n\")\n",
    "\n",
    "# To get eigenvalues and eigenvectors\n",
    "eigenvalues, eigenvectors = np.linalg.eig(A)\n",
    "print(f\"Eigenvalues of A = {eigenvalues}\")\n",
    "print(f\"Eigenvectors of A = \\n{eigenvectors}\")"
   ]
  }
 ],
 "metadata": {
  "kernelspec": {
   "display_name": "a3_ml",
   "language": "python",
   "name": "python3"
  },
  "language_info": {
   "codemirror_mode": {
    "name": "ipython",
    "version": 3
   },
   "file_extension": ".py",
   "mimetype": "text/x-python",
   "name": "python",
   "nbconvert_exporter": "python",
   "pygments_lexer": "ipython3",
   "version": "3.10.14"
  }
 },
 "nbformat": 4,
 "nbformat_minor": 2
}
