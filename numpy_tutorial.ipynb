{
 "cells": [
  {
   "cell_type": "markdown",
   "metadata": {},
   "source": [
    "# Numpy tutorial\n",
    "\n",
    "Welcome!\n",
    "\n",
    "Pre-requisites for this tutorial:\n",
    "- Basic python (variables, types, lists, dicts, etc.) "
   ]
  },
  {
   "cell_type": "markdown",
   "metadata": {},
   "source": [
    "## Installing  and importing Numpy\n",
    "\n",
    "Please view official documentation here: https://numpy.org/"
   ]
  },
  {
   "cell_type": "code",
   "execution_count": null,
   "metadata": {},
   "outputs": [],
   "source": [
    "# Run this cell to install numpy. Can alternately be run on a command line\n",
    "!pip install numpy"
   ]
  },
  {
   "cell_type": "markdown",
   "metadata": {},
   "source": [
    "This notebook can be run on google colab without needing to install python on your computer.\n",
    "\n",
    "Please follow instructions here: [Google Colab Instructions](https://medium.com/@jessica0greene/running-your-notebooks-in-the-cloud-with-google-colab-4387529bfad4)"
   ]
  },
  {
   "cell_type": "code",
   "execution_count": null,
   "metadata": {},
   "outputs": [],
   "source": [
    "import numpy as np"
   ]
  },
  {
   "cell_type": "markdown",
   "metadata": {},
   "source": [
    "## Creating a numpy array\n",
    "\n",
    "Numpy arrays can be created in a number of ways. One of the ways is by using a python list such as [1,2,3]."
   ]
  },
  {
   "cell_type": "code",
   "execution_count": null,
   "metadata": {},
   "outputs": [],
   "source": [
    "list_of_numbers = [1,2,3]\n",
    "numpy_array_of_list = np.array(list_of_numbers)\n",
    "\n",
    "print(\"The numpy array is \", numpy_array_of_list)\n",
    "print(\"The type of a numpy array is \", type(numpy_array_of_list))"
   ]
  },
  {
   "cell_type": "markdown",
   "metadata": {},
   "source": [
    "Here are some other ways to create numpy arrays"
   ]
  },
  {
   "cell_type": "code",
   "execution_count": null,
   "metadata": {},
   "outputs": [],
   "source": [
    "# To create an array of zeros\n",
    "zeros_array = np.zeros(3)\n",
    "print(f\"Array of zeros: {zeros_array}\")\n",
    "\n",
    "# To create an array of ones\n",
    "ones_array = np.ones(5)\n",
    "print(f\"Array of ones: {ones_array}\")\n",
    "\n",
    "# To create an array from 15 to 25 with step size 2. Works similar to python list slicing.\n",
    "range_array = np.arange(15, 25, 2)\n",
    "print(f\"Array from range [15,25) with step size 2: {range_array}\")\n",
    "\n",
    "# Note: the 'start' and 'step' parameters are optional. \n",
    "range_array_only_stop = np.arange(6)\n",
    "print(f\"Array from [0,6): {range_array_only_stop}\")\n",
    "\n",
    "# To create an array with 6 elements in the range [13,15] which are evenly spaced\n",
    "linspace_array = np.linspace(13, 15, num=6)\n",
    "print(f\"Array of 6 elements in range [13,15]: {linspace_array}\")\n",
    "\n",
    "# We can also make the range exclude the endpoint. This is an array with 6 elements in the range [13,15)\n",
    "linspace_array_exclude_endpoint = np.linspace(13, 15, num=6, endpoint=False)\n",
    "print(f\"Array of 6 elements in range [13,15): {linspace_array_exclude_endpoint}\")"
   ]
  },
  {
   "cell_type": "markdown",
   "metadata": {},
   "source": [
    "We can also create arrays of different types.\n",
    "- To view a list of all dtypes: https://numpy.org/doc/2.1/reference/arrays.dtypes.html\n",
    "- Usually, np.int32 and np.float64 are used."
   ]
  },
  {
   "cell_type": "code",
   "execution_count": null,
   "metadata": {},
   "outputs": [],
   "source": [
    "float_array = np.ones(6, dtype=np.float64)\n",
    "print(f\"Float array: {float_array}\")"
   ]
  },
  {
   "cell_type": "markdown",
   "metadata": {},
   "source": [
    "## Indexing and Slicing\n",
    "\n",
    "This works similar to regular Python lists."
   ]
  },
  {
   "cell_type": "code",
   "execution_count": null,
   "metadata": {},
   "outputs": [],
   "source": [
    "a = np.array([4,7,2,3,1,6,4,9,0,2,3])\n",
    "print(f\"The element at index 3 is {a[3]}\")\n",
    "print(f\"The array from index 2 to 5 (exluding 5) is {a[2:5]}\")\n",
    "print(f\"The array from index 3 to 7 with step size 2 is {a[3:7:2]}\")"
   ]
  },
  {
   "cell_type": "markdown",
   "metadata": {},
   "source": [
    "What if you want elements of indices 2,6,4, and 7?\n",
    "\n",
    "Custom indexing is supported in numpy."
   ]
  },
  {
   "cell_type": "code",
   "execution_count": null,
   "metadata": {},
   "outputs": [],
   "source": [
    "a = np.array([4,7,2,3,1,6,4,9,0,2,3])\n",
    "print(f\"Elements at indices 2,6,4, and 7: {a[[2,6,4,7]]}\")"
   ]
  },
  {
   "cell_type": "markdown",
   "metadata": {},
   "source": [
    "Arrays can be modified. See below for examples."
   ]
  },
  {
   "cell_type": "code",
   "execution_count": null,
   "metadata": {},
   "outputs": [],
   "source": [
    "a = np.array([4,7,2,3,1,6,4,9,0,2,3])\n",
    "print(f\"Array: {a}\")\n",
    "\n",
    "# To change element at index 3 to 57\n",
    "a[3] = 57\n",
    "print(f\"After changing index 3 to 57: {a}\")\n",
    "\n",
    "# Changing indices 4,6,7 to 123\n",
    "a[[4,6,7]] = 123\n",
    "print(f\"After changing indices 4,6,7 to 123: {a}\")"
   ]
  },
  {
   "cell_type": "markdown",
   "metadata": {},
   "source": [
    "#### Masks\n",
    "\n",
    "- Masks are useful if you want all elements/numbers in an array that satisfy a particular condition.\n",
    "- Masks are a boolean numpy array where the value at an index 'True' if the boolean condition is satisfied and 'False' otherwise.\n",
    "- Common boolean operators should be used as follows (this is different from regular python syntax):\n",
    "    * & (and)\n",
    "    * | (or)\n",
    "    * ~ (not)\n",
    "- Parentheses are required when using boolean operators such as '&' and '|'. If not you will likely get an error as follows:\n",
    "    * `ValueError: The truth value of an array with more than one element is ambiguous. Use a.any() or a.all()`\n",
    "\n",
    "For example, what if we want the indices of all elements that are greater than 3. The boolean condition here is if an element is greater than 3."
   ]
  },
  {
   "cell_type": "code",
   "execution_count": null,
   "metadata": {},
   "outputs": [],
   "source": [
    "# To get indices of all elements greater than 3\n",
    "a = np.array([4,7,2,3,1,6,4,9,0,2,3])\n",
    "mask = a > 3\n",
    "print(f\"Mask for elements >3 in array: {mask}\")\n",
    "print(f\"Elements greater than 3: {a[mask]}\")"
   ]
  },
  {
   "cell_type": "markdown",
   "metadata": {},
   "source": [
    "Masking can sometimes be done in one line of code, without creating a variable called 'mask'."
   ]
  },
  {
   "cell_type": "code",
   "execution_count": null,
   "metadata": {},
   "outputs": [],
   "source": [
    "a = np.array([4,7,2,3,1,6,4,9,0,2,3])\n",
    "print(f\"Elements lesser than or equal to 6 in the array: {a[a <= 6]}\")"
   ]
  },
  {
   "cell_type": "markdown",
   "metadata": {},
   "source": [
    "Here are more ways boolean conditions can be formulated."
   ]
  },
  {
   "cell_type": "code",
   "execution_count": null,
   "metadata": {},
   "outputs": [],
   "source": [
    "a = np.array([4,7,2,3,1,6,4,9,0,2,3])\n",
    "print(f\"Array: {a}\")\n",
    "\n",
    "# To get all elements not equal to 4. There are two ways to do this.\n",
    "print(f\"All elements not equal to 4: {a[a != 4]}\")\n",
    "print(f\"All elements not equal to 4: {a[~(a == 4)]}\")\n",
    "\n",
    "# To get all elements between 3 and 7 exluding 7, i.e. in the interval [3,7) i.e. >=3 and <7\n",
    "print(f\"All elements in range [3,7): {a[(a >= 3) & (a < 7)]}\")\n",
    "\n",
    "# To get all elements not greater than 3 (i.e. <=3) or greater than 7\n",
    "print(f\"All elements that are in range (-inf,3] u (7,inf): {a[~(a > 3) | (a > 7)]}\")"
   ]
  },
  {
   "cell_type": "markdown",
   "metadata": {},
   "source": [
    "## Shape\n",
    "\n",
    "- The shape of a numpy array is a way to represent the number of dimensions and the number of items in each dimension.\n",
    "- So far, we have looked at lists, which are one dimensional arrays. An array (or list rather) of size 8 would have shape (8,).\n",
    "- Numpy arrays don't have to be a 1-dimensional list.\n",
    "- They can be 2,3, or more dimensions. A 2-d numpy array would be a matrix. A 3-d array would be like stacking multiple matrices together, like a cube."
   ]
  },
  {
   "cell_type": "code",
   "execution_count": null,
   "metadata": {},
   "outputs": [],
   "source": [
    "# To create a 2-d array from a list of lists\n",
    "a = np.array([\n",
    "    [1,2,3,1],\n",
    "    [4,5,6,1],\n",
    "    [7,8,9,1]\n",
    "])\n",
    "print(f\"2-d array from list: \\n{a}\")\n",
    "print(f\"Shape of 2-d array: {a.shape}\")\n",
    "print()\n",
    "\n",
    "# To create a 3-d array with ones that is like stacking three 5x7 matrices together\n",
    "a = np.ones(shape=(3,5,7))\n",
    "print(f\"3-d array of ones: \\n{a}\")\n",
    "print(f\"Shape of array: {a.shape}\")"
   ]
  },
  {
   "cell_type": "markdown",
   "metadata": {},
   "source": [
    "#### Reshape\n",
    "\n",
    "- A common operation in numpy is 'reshape'. This involves changing the shape of the numpy array. This is useful if you want to change how a numpy array is structured for specific tasks.\n",
    "- An array of shape (4,2,2) can be thought of as an array of 4 elements where each element is a (2,2) two dimensional array (or matrix).\n",
    "- An array of shape (10,4,2,2) can be thought of as an array of 10 elements where each element is a (4,2,2) array."
   ]
  },
  {
   "cell_type": "code",
   "execution_count": null,
   "metadata": {},
   "outputs": [],
   "source": [
    "# Let 'a' be a 1-d array of size 16\n",
    "a = np.arange(16)\n",
    "print(f\"Array: {a}\")\n",
    "print(f\"Shape of array: {a.shape}\")\n",
    "print()\n",
    "\n",
    "# Let's reshape this array to a 4x4 matrix (2-d array)\n",
    "a_reshaped_matrix = a.reshape((4,4))\n",
    "print(f\"Array reshaped as a matrix: \\n{a_reshaped_matrix}\")\n",
    "print(f\"Shape of array: {a_reshaped_matrix.shape}\")\n",
    "print()\n",
    "\n",
    "# Reshape into 2x8 matrix\n",
    "a_reshaped_matrix_2 = a.reshape((2,8))\n",
    "print(f\"Array reshaped as a matrix: \\n{a_reshaped_matrix_2}\")\n",
    "print(f\"Shape of array: {a_reshaped_matrix_2.shape}\")"
   ]
  },
  {
   "cell_type": "code",
   "execution_count": null,
   "metadata": {},
   "outputs": [],
   "source": [
    "a = np.arange(16)\n",
    "\n",
    "# Reshape into a 3-d array of shape 4x2x2.\n",
    "# Please take a moment to look at how the numbers are structured\n",
    "a_reshaped_3d = a.reshape((4,2,2))\n",
    "print(f\"Array reshaped as 3-d: \\n{a_reshaped_3d}\")\n",
    "print(f\"Shape of array: {a_reshaped_3d.shape}\")\n",
    "print()\n",
    "\n",
    "# Reshape into a 3-d array of shape 2x4x2.\n",
    "# Please take a moment to look at how the numbers are structured\n",
    "a_reshaped_3d_2 = a.reshape((2,4,2))\n",
    "print(f\"Array reshaped as 3-d: \\n{a_reshaped_3d_2}\")\n",
    "print(f\"Shape of array: {a_reshaped_3d_2.shape}\")"
   ]
  },
  {
   "cell_type": "code",
   "execution_count": null,
   "metadata": {},
   "outputs": [],
   "source": [
    "a = np.arange(16)\n",
    "\n",
    "# Array reshaped as 4-d\n",
    "a_reshaped_4d = a.reshape((2,2,2,2))\n",
    "print(f\"Array reshaped as 4-d: \\n{a_reshaped_4d}\")\n",
    "print(f\"Shape of array: {a_reshaped_4d.shape}\")"
   ]
  },
  {
   "cell_type": "markdown",
   "metadata": {},
   "source": [
    "**IMPORTANT**: It is necessary to ensure that the new shape of a numpy array would be \"compatible\" with the old shape. This means the number of elements in both shapes should be the same. \n",
    "\n",
    "In the examples above, all shapes had 16 elements. Some of them were (16,), (2,8), (4,2,2), (2,2,2,2), etc."
   ]
  },
  {
   "cell_type": "code",
   "execution_count": null,
   "metadata": {},
   "outputs": [],
   "source": [
    "# What if we reshape to an invalid shape\n",
    "## THIS WILL THROW AN ERROR\n",
    "a = np.arange(16)\n",
    "print(f\"Error case: {a.reshape(4,2,3)}\")"
   ]
  },
  {
   "cell_type": "markdown",
   "metadata": {},
   "source": [
    "## Linear Algebra\n",
    "\n",
    "Numpy can also be used to perform linear algebra operations."
   ]
  },
  {
   "cell_type": "code",
   "execution_count": null,
   "metadata": {},
   "outputs": [],
   "source": [
    "# To create a diagonal matrix using a list or array\n",
    "diagonal_matrix = np.diag([1,2,3,4])\n",
    "print(f\"Diagonal matrix: \\n{diagonal_matrix}\")\n",
    "print()\n",
    "\n",
    "# To create an identity matrix\n",
    "identity_matrix = np.eye(3)\n",
    "print(f\"Identity matrix of size 3: \\n{identity_matrix}\")"
   ]
  },
  {
   "cell_type": "code",
   "execution_count": null,
   "metadata": {},
   "outputs": [],
   "source": [
    "# To perform a matrix multiplication, there are two ways\n",
    "\n",
    "A = np.array([   # 2x3 matrix\n",
    "    [1,2,3],\n",
    "    [4,5,6]\n",
    "])\n",
    "\n",
    "B = np.array([   # 3x4 matrix\n",
    "    [1,2,3,1],\n",
    "    [4,5,6,1],\n",
    "    [7,8,9,1]\n",
    "])\n",
    "\n",
    "print(f\"A x B = \\n{np.matmul(A, B)}\\n\")\n",
    "print(f\"A x B = \\n{A @ B}\")"
   ]
  },
  {
   "cell_type": "code",
   "execution_count": null,
   "metadata": {},
   "outputs": [],
   "source": [
    "# If the matrix multiplication is invalid (such as if the dimensions don't match) we get the following error\n",
    "# THIS WILL THROW AN ERROR\n",
    "print(f\"B x A = {B @ A}\")"
   ]
  }
 ],
 "metadata": {
  "kernelspec": {
   "display_name": "a3_ml",
   "language": "python",
   "name": "python3"
  },
  "language_info": {
   "codemirror_mode": {
    "name": "ipython",
    "version": 3
   },
   "file_extension": ".py",
   "mimetype": "text/x-python",
   "name": "python",
   "nbconvert_exporter": "python",
   "pygments_lexer": "ipython3",
   "version": "3.10.14"
  }
 },
 "nbformat": 4,
 "nbformat_minor": 2
}
