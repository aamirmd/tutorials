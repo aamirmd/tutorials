{
 "cells": [
  {
   "cell_type": "markdown",
   "metadata": {},
   "source": [
    "# NumPy and Pandas"
   ]
  },
  {
   "cell_type": "markdown",
   "metadata": {},
   "source": [
    "Welcome to the tutorial."
   ]
  },
  {
   "cell_type": "markdown",
   "metadata": {},
   "source": [
    "## Installing  and importing Numpy\n",
    "\n",
    "Please view official documentation here: https://numpy.org/"
   ]
  },
  {
   "cell_type": "code",
   "execution_count": null,
   "metadata": {},
   "outputs": [],
   "source": [
    "# Run this cell to install numpy. Can alternately be run on a command line\n",
    "!pip install numpy"
   ]
  },
  {
   "cell_type": "code",
   "execution_count": null,
   "metadata": {},
   "outputs": [],
   "source": [
    "import numpy as np"
   ]
  },
  {
   "cell_type": "markdown",
   "metadata": {},
   "source": [
    "## Creating a numpy array\n",
    "\n",
    "Numpy arrays can be created in a number of ways. One of the ways is by using a python list such as [1,2,3]."
   ]
  },
  {
   "cell_type": "code",
   "execution_count": null,
   "metadata": {},
   "outputs": [],
   "source": [
    "list_of_numbers = [1,2,3]\n",
    "numpy_array_of_list = np.array(list_of_numbers)\n",
    "\n",
    "print(\"The numpy array is \", numpy_array_of_list)\n",
    "print(\"The type of a numpy array is \", type(numpy_array_of_list))"
   ]
  },
  {
   "cell_type": "markdown",
   "metadata": {},
   "source": [
    "Here are some other ways to create numpy arrays"
   ]
  },
  {
   "cell_type": "code",
   "execution_count": null,
   "metadata": {},
   "outputs": [],
   "source": [
    "# To create an array of zeros\n",
    "zeros_array = np.zeros(3)\n",
    "print(f\"Array of zeros: {zeros_array}\")\n",
    "\n",
    "# To create an array of ones\n",
    "ones_array = np.ones(5)\n",
    "print(f\"Array of ones: {ones_array}\")\n",
    "\n",
    "# To create an array from 15 to 25 with step size 2. Works similar to python list slicing.\n",
    "range_array = np.arange(15, 25, 2)\n",
    "print(f\"Array from range [15,25) with step size 2: {range_array}\")\n",
    "\n",
    "# Note: the 'start' and 'step' parameters are optional. \n",
    "range_array_only_stop = np.arange(6)\n",
    "print(f\"Array from [0,6): {range_array_only_stop}\")\n",
    "\n",
    "# To create an array with 6 elements in the range [13,15] which are evenly spaced\n",
    "linspace_array = np.linspace(13, 15, num=6)\n",
    "print(f\"Array of 6 elements in range [13,15]: {linspace_array}\")\n",
    "\n",
    "# We can also make the range exclude the endpoint. This is an array with 6 elements in the range [13,15)\n",
    "linspace_array_exclude_endpoint = np.linspace(13, 15, num=6, endpoint=False)\n",
    "print(f\"Array of 6 elements in range [13,15): {linspace_array_exclude_endpoint}\")"
   ]
  },
  {
   "cell_type": "markdown",
   "metadata": {},
   "source": [
    "## Indexing and Slicing\n",
    "\n",
    "This works similar to regular Python lists."
   ]
  },
  {
   "cell_type": "code",
   "execution_count": null,
   "metadata": {},
   "outputs": [],
   "source": [
    "a = np.array([4,7,2,3,9,6,4,9,0,2,3])\n",
    "print(f\"The element at index 3 is {a[3]}\")\n",
    "print(f\"The array from index 2 to 5 (exluding 5) is {a[2:5]}\")\n",
    "print(f\"The array from index 3 to 7 with step size 2 is {a[3:7:2]}\")"
   ]
  },
  {
   "cell_type": "markdown",
   "metadata": {},
   "source": [
    "## Shape\n",
    "\n",
    "Numpy arrays don't have to be a 1-dimensional list.\n",
    "\n",
    "The can be 2,3, or multiple dimensions. A 2-d numpy array would be a matrix. A 3-d would be like stacking multiple matrices together, like a cube."
   ]
  },
  {
   "cell_type": "code",
   "execution_count": null,
   "metadata": {},
   "outputs": [],
   "source": [
    "# To create a 2-d array from a list of lists\n",
    "a = np.array([\n",
    "    [1,2,3],\n",
    "    [4,5,6],\n",
    "    [7,8,9]\n",
    "])\n",
    "print(f\"2-d array from list: \\n{a}\")\n",
    "print()\n",
    "\n",
    "# To create a 3-d array with ones that is like stacking three 5x7 matrices together\n",
    "a = np.ones(shape=(3,5,7))\n",
    "print(f\"3-d array of ones: \\n{a}\")"
   ]
  }
 ],
 "metadata": {
  "kernelspec": {
   "display_name": "a3_ml",
   "language": "python",
   "name": "python3"
  },
  "language_info": {
   "codemirror_mode": {
    "name": "ipython",
    "version": 3
   },
   "file_extension": ".py",
   "mimetype": "text/x-python",
   "name": "python",
   "nbconvert_exporter": "python",
   "pygments_lexer": "ipython3",
   "version": "3.10.14"
  }
 },
 "nbformat": 4,
 "nbformat_minor": 2
}
