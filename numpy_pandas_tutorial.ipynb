{
 "cells": [
  {
   "cell_type": "markdown",
   "metadata": {},
   "source": [
    "# NumPy and Pandas"
   ]
  },
  {
   "cell_type": "markdown",
   "metadata": {},
   "source": [
    "Welcome to the tutorial."
   ]
  },
  {
   "cell_type": "markdown",
   "metadata": {},
   "source": [
    "## Installing  and importing Numpy\n",
    "\n",
    "Please view official documentation here: https://numpy.org/"
   ]
  },
  {
   "cell_type": "code",
   "execution_count": 1,
   "metadata": {},
   "outputs": [
    {
     "name": "stdout",
     "output_type": "stream",
     "text": [
      "Requirement already satisfied: numpy in c:\\users\\aamir\\miniconda3\\envs\\a3_ml\\lib\\site-packages (1.26.4)\n"
     ]
    }
   ],
   "source": [
    "# Run this cell to install numpy. Can alternately be run on a command line\n",
    "!pip install numpy"
   ]
  },
  {
   "cell_type": "code",
   "execution_count": 3,
   "metadata": {},
   "outputs": [],
   "source": [
    "import numpy as np"
   ]
  },
  {
   "cell_type": "markdown",
   "metadata": {},
   "source": [
    "## Creating a numpy array\n",
    "\n",
    "Numpy arrays can be created in a number of ways. One of the ways is by using a python list such as [1,2,3]."
   ]
  },
  {
   "cell_type": "code",
   "execution_count": 4,
   "metadata": {},
   "outputs": [
    {
     "name": "stdout",
     "output_type": "stream",
     "text": [
      "The numpy array is  [1 2 3]\n",
      "The type of a numpy array is  <class 'numpy.ndarray'>\n"
     ]
    }
   ],
   "source": [
    "list_of_numbers = [1,2,3]\n",
    "numpy_array_of_list = np.array(list_of_numbers)\n",
    "\n",
    "print(\"The numpy array is \", numpy_array_of_list)\n",
    "print(\"The type of a numpy array is \", type(numpy_array_of_list))"
   ]
  },
  {
   "cell_type": "markdown",
   "metadata": {},
   "source": [
    "Here are some other ways to create numpy arrays"
   ]
  },
  {
   "cell_type": "code",
   "execution_count": null,
   "metadata": {},
   "outputs": [
    {
     "name": "stdout",
     "output_type": "stream",
     "text": [
      "Array of zeros: [0. 0. 0.]\n",
      "Array of ones: [1. 1. 1. 1. 1.]\n",
      "Array from range [15,25) with step size 2: [15 17 19 21 23]\n",
      "Array from [0,6): [0 1 2 3 4 5]\n",
      "Array of 6 elements in range [13,15]: [13.  13.4 13.8 14.2 14.6 15. ]\n",
      "Array of 6 elements in range [13,15): [13.         13.33333333 13.66666667 14.         14.33333333 14.66666667]\n"
     ]
    }
   ],
   "source": [
    "# To create an array of zeros\n",
    "zeros_array = np.zeros(3)\n",
    "print(f\"Array of zeros: {zeros_array}\")\n",
    "\n",
    "# To create an array of ones\n",
    "ones_array = np.ones(5)\n",
    "print(f\"Array of ones: {ones_array}\")\n",
    "\n",
    "# To create an array from 15 to 25 with step size 2. Works similar to python list slicing.\n",
    "range_array = np.arange(15, 25, 2)\n",
    "print(f\"Array from range [15,25) with step size 2: {range_array}\")\n",
    "\n",
    "# Note: the 'start' and 'step' parameters are optional. \n",
    "range_array_only_stop = np.arange(6)\n",
    "print(f\"Array from [0,6): {range_array_only_stop}\")\n",
    "\n",
    "# To create an array with 6 elements in the range [13,15] which are evenly spaced\n",
    "linspace_array = np.linspace(13, 15, num=6)\n",
    "print(f\"Array of 6 elements in range [13,15]: {linspace_array}\")\n",
    "\n",
    "# We can also make the range exclude the endpoint. This is an array with 6 elements in the range [13,15)\n",
    "linspace_array_exclude_endpoint = np.linspace(13, 15, num=6, endpoint=False)\n",
    "print(f\"Array of 6 elements in range [13,15): {linspace_array_exclude_endpoint}\")"
   ]
  }
 ],
 "metadata": {
  "kernelspec": {
   "display_name": "a3_ml",
   "language": "python",
   "name": "python3"
  },
  "language_info": {
   "codemirror_mode": {
    "name": "ipython",
    "version": 3
   },
   "file_extension": ".py",
   "mimetype": "text/x-python",
   "name": "python",
   "nbconvert_exporter": "python",
   "pygments_lexer": "ipython3",
   "version": "3.10.14"
  }
 },
 "nbformat": 4,
 "nbformat_minor": 2
}
